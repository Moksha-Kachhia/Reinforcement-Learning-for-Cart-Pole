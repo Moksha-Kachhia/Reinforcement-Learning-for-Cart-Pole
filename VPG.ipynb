{
 "cells": [
  {
   "cell_type": "code",
   "execution_count": 9,
   "id": "d63d48ba",
   "metadata": {
    "scrolled": true
   },
   "outputs": [],
   "source": [
    "import random\n",
    "import matplotlib.pyplot as plt\n",
    "import numpy as np\n",
    "import pandas as pd\n",
    "import seaborn as sns\n",
    "import torch\n",
    "import torch.nn as nn\n",
    "\n",
    "from torch.distributions import Categorical #unlike Normal, it has discrete probability distribution--best for action--rather than regression tasks/uncertainties\n",
    "\n",
    "import gymnasium as gym"
   ]
  },
  {
   "cell_type": "code",
   "execution_count": 12,
   "id": "aa66fee8",
   "metadata": {},
   "outputs": [],
   "source": [
    "#class Vanilla(nn.module):\n",
    " #   def __init__(self, num_obs_dims: int, num_action_dims: int, num_hidden_dims = 64): #128 is a common practice power of two value but many powers of two work well \n",
    "  #      super().__init__() #accessing constructor of Vanilla aka nn.module\n",
    "   #     self.fc1 = nn.Linear(n_obs_dim, n_hidden_dim) #fully connected linear layer \n",
    "    #    self.fc2 = nn.Linear(n_hidden_dim, n_action_dim)\n",
    "    #def forward(self, torch.Tensor) -> torch.Tensor: "
   ]
  },
  {
   "cell_type": "code",
   "execution_count": null,
   "id": "62f0dbf0",
   "metadata": {},
   "outputs": [],
   "source": []
  },
  {
   "cell_type": "code",
   "execution_count": null,
   "id": "9fb939de",
   "metadata": {},
   "outputs": [],
   "source": []
  }
 ],
 "metadata": {
  "kernelspec": {
   "display_name": "Python 3 (ipykernel)",
   "language": "python",
   "name": "python3"
  },
  "language_info": {
   "codemirror_mode": {
    "name": "ipython",
    "version": 3
   },
   "file_extension": ".py",
   "mimetype": "text/x-python",
   "name": "python",
   "nbconvert_exporter": "python",
   "pygments_lexer": "ipython3",
   "version": "3.11.4"
  }
 },
 "nbformat": 4,
 "nbformat_minor": 5
}
