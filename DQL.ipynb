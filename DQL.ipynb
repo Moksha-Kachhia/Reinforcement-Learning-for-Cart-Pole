{
 "cells": [
  {
   "cell_type": "markdown",
   "id": "ef5d88d6",
   "metadata": {},
   "source": [
    "Notes: \n",
    "\n",
    "The objective of DQL is to find the optimal policy that maximizes the expected cumulative reward for an agent interacting with an environment. It uses a neural network to approximate the Q-value function, which estimates the expected reward for taking a particular action in a given state.\n",
    "\n",
    "Key components of DQL:\n",
    "\n",
    "- Q-Value Function: Represents the expected future reward of taking an action in a given state.\n",
    "- Deep Q-Network (DQN): A neural network used to approximate the Q-value function.\n",
    "- Experience Replay: A technique where experiences (state, action, reward, next state) are stored in a replay buffer and sampled randomly for training.\n",
    "- Target Network: A separate network used to stabilize training by providing consistent target values for the Q-network.\n",
    "\n",
    "Implementation Source: https://www.youtube.com/watch?v=D795oNqa-Vk"
   ]
  },
  {
   "cell_type": "code",
   "execution_count": null,
   "id": "c2e4240a",
   "metadata": {},
   "outputs": [],
   "source": []
  }
 ],
 "metadata": {
  "kernelspec": {
   "display_name": "Python 3 (ipykernel)",
   "language": "python",
   "name": "python3"
  },
  "language_info": {
   "codemirror_mode": {
    "name": "ipython",
    "version": 3
   },
   "file_extension": ".py",
   "mimetype": "text/x-python",
   "name": "python",
   "nbconvert_exporter": "python",
   "pygments_lexer": "ipython3",
   "version": "3.11.4"
  }
 },
 "nbformat": 4,
 "nbformat_minor": 5
}
